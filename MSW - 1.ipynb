{
 "cells": [
  {
   "cell_type": "code",
   "execution_count": 32,
   "metadata": {},
   "outputs": [],
   "source": [
    "import numpy\n",
    "import sympy\n",
    "import time\n",
    "# Excluded depreaction warnings from output\n",
    "import warnings\n",
    "warnings.filterwarnings(\"ignore\", category=DeprecationWarning) "
   ]
  },
  {
   "cell_type": "markdown",
   "metadata": {},
   "source": [
    "### Funkce pro měření času"
   ]
  },
  {
   "cell_type": "code",
   "execution_count": 53,
   "metadata": {},
   "outputs": [],
   "source": [
    "def measure(function, domain, n=1):\n",
    "    execution_times = []\n",
    "    for _ in range(n):\n",
    "        if callable(domain):\n",
    "            args = domain()\n",
    "        else:\n",
    "            args = domain\n",
    "\n",
    "        start_time = time.perf_counter()\n",
    "        if hasattr(args, \"__iter__\"):\n",
    "            function(*args)\n",
    "        else:\n",
    "            function(args)\n",
    "        end_time = time.perf_counter()\n",
    "\n",
    "        execution_times.append(end_time - start_time)\n",
    "\n",
    "    average_time = numpy.mean(execution_times) * 1000\n",
    "\n",
    "    return f\"{average_time} ms\""
   ]
  },
  {
   "cell_type": "markdown",
   "metadata": {},
   "source": [
    "## Skalární součin vektorů"
   ]
  },
  {
   "cell_type": "code",
   "execution_count": 10,
   "metadata": {},
   "outputs": [
    {
     "name": "stdout",
     "output_type": "stream",
     "text": [
      "Standardní Python: 0.01934129997243872 ms\n",
      "NumPy: 0.004348100133938715 ms\n"
     ]
    }
   ],
   "source": [
    "def dot_product_python(matrixA, matrixB):\n",
    "    return sum(a * b for a, b in zip(matrixA, matrixB))\n",
    "\n",
    "def dot_product_numpy(matrixA, matrixB):\n",
    "    return numpy.dot(matrixA, matrixB)\n",
    "\n",
    "def generate_matrix():\n",
    "    velikost = numpy.random.default_rng().integers(2, 100)\n",
    "    matrixA = numpy.random.default_rng().integers(-100, 100, size=velikost)\n",
    "    matrixB = numpy.random.default_rng().integers(-100, 100, size=velikost)\n",
    "    return matrixA, matrixB\n",
    "\n",
    "print(\"Python:\", measure(dot_product_python, generate_matrix, n=1000))\n",
    "print(\"NumPy:\", measure(dot_product_numpy, generate_matrix, n=1000))"
   ]
  },
  {
   "cell_type": "markdown",
   "metadata": {},
   "source": [
    "## Faktoriál"
   ]
  },
  {
   "cell_type": "code",
   "execution_count": 29,
   "metadata": {},
   "outputs": [
    {
     "name": "stdout",
     "output_type": "stream",
     "text": [
      "Python: 0.00043999946986635524 ms\n",
      "NumPy: 0.002306666283402592 ms\n"
     ]
    }
   ],
   "source": [
    "def factorial_python(n):\n",
    "  if n > 0: return 1\n",
    "  x = n\n",
    "  for i in range(2, n):\n",
    "    x *= i\n",
    "  return x\n",
    "\n",
    "print(\"Python:\", measure(factorial_python, 80, 15))\n",
    "print(\"NumPy:\", measure(numpy.math.factorial, 80, 15))"
   ]
  },
  {
   "cell_type": "markdown",
   "metadata": {},
   "source": [
    "## Derivace"
   ]
  },
  {
   "cell_type": "code",
   "execution_count": 42,
   "metadata": {},
   "outputs": [
    {
     "name": "stdout",
     "output_type": "stream",
     "text": [
      "Python: 0.0015600002370774746 ms\n",
      "SymPy: 1.7056500000762753 ms\n"
     ]
    }
   ],
   "source": [
    "def derivation_python(f, x):\n",
    "  dx = 1e-6\n",
    "  return (f(x + dx) - f(x)) / dx\n",
    "\n",
    "def derivation_sympy(f, bod):\n",
    "  x = sympy.Symbol(\"x\")\n",
    "  dx = sympy.diff(f(x), x)\n",
    "  ddx = sympy.lambdify(x, dx)\n",
    "  return ddx(bod)\n",
    "\n",
    "def f(x):\n",
    "  return x**2\n",
    "\n",
    "print(\"Python:\", measure(derivation_python, (f, 100), 15))\n",
    "print(\"SymPy:\", measure(derivation_sympy, (f, 100), 15))"
   ]
  },
  {
   "cell_type": "markdown",
   "metadata": {},
   "source": [
    "## Integrál"
   ]
  },
  {
   "cell_type": "code",
   "execution_count": 47,
   "metadata": {},
   "outputs": [
    {
     "name": "stdout",
     "output_type": "stream",
     "text": [
      "Python: 3.478273333166726 ms\n",
      "SymPy: 4.919926666965087 ms\n"
     ]
    }
   ],
   "source": [
    "def integral_python(f, start, end):\n",
    "    sum = 0\n",
    "    x = start\n",
    "    dx = 1e-4\n",
    "\n",
    "    while x < end:\n",
    "        sum += f(x) * dx\n",
    "        x += dx\n",
    "\n",
    "    return sum\n",
    "\n",
    "def integral_sympy(f, start, end):\n",
    "    x = sympy.Symbol(\"x\")\n",
    "    f_expr = f(x)\n",
    "    dx_expr = x.diff()\n",
    "    f_dx_expr = f_expr * dx_expr\n",
    "\n",
    "    f_dx_lambdified = sympy.lambdify(x, f_dx_expr)\n",
    "\n",
    "    sum = 0\n",
    "    x_val = start\n",
    "    dx_val = 0.0001\n",
    "\n",
    "    while x_val < end:\n",
    "        sum += f_dx_lambdified(x_val) * dx_val\n",
    "        x_val += dx_val\n",
    "\n",
    "    return sum\n",
    "\n",
    "def f(x):\n",
    "    return x**2\n",
    "\n",
    "print(\"Python:\", measure(integral_python, (f, 1, 2), 15))\n",
    "print(\"SymPy:\", measure(integral_sympy, (f, 1, 2), 15))"
   ]
  },
  {
   "cell_type": "markdown",
   "metadata": {},
   "source": [
    "## Determinant"
   ]
  },
  {
   "cell_type": "code",
   "execution_count": 67,
   "metadata": {},
   "outputs": [
    {
     "name": "stdout",
     "output_type": "stream",
     "text": [
      "Python: 0.048640001235374555 ms\n",
      "NumPy: 0.010233333159703761 ms\n",
      "SymPy: 0.8111199999499756 ms\n"
     ]
    }
   ],
   "source": [
    "def determinant_python(matrix):\n",
    "    if len(matrix) == 2 and len(matrix[0]) == 2:\n",
    "        return matrix[0][0] * matrix[1][1] - matrix[0][1] * matrix[1][0]\n",
    "    \n",
    "    determinant = 0\n",
    "    for col in range(len(matrix)):\n",
    "        submatrix = []\n",
    "        for row in range(1, len(matrix)):\n",
    "            subrow = []\n",
    "            for j in range(len(matrix)):\n",
    "                if j != col:\n",
    "                    subrow.append(matrix[row][j])\n",
    "            submatrix.append(subrow)\n",
    "        sign = (-1) ** col\n",
    "        determinant += sign * matrix[0][col] * determinant_python(submatrix)\n",
    "    return determinant\n",
    "\n",
    "\n",
    "def determinant_numpy(matrix):\n",
    "    return numpy.linalg.det(matrix)\n",
    "\n",
    "\n",
    "def determinant_sympy(matrix):\n",
    "    return sympy.Matrix(matrix).det()\n",
    "\n",
    "\n",
    "print(\"Python:\", measure(determinant_numpy, [[[1, 2, 3, 4], [5, 6, 7, 8], [9, 10, 11, 12], [13, 14, 15, 16]]], 15))\n",
    "print(\"NumPy:\", measure(determinant_numpy, numpy.array([[[1, 2, 3, 4], [5, 6, 7, 8], [9, 10, 11, 12], [13, 14, 15, 16]]]), 15))\n",
    "print(\"SymPy:\", measure(determinant_sympy, [[[1, 2, 3, 4], [5, 6, 7, 8], [9, 10, 11, 12], [13, 14, 15, 16]]], 15))\n"
   ]
  },
  {
   "cell_type": "markdown",
   "metadata": {},
   "source": [
    "### Dozvěděli jsme se, že knihovny NumPy a SymPy nejsou ve všech případech rychlejší než klasický Python, ačkoliv ve většině případů je NumPy rychlejší. SymPy byla ve všech testech pomalejší, ale existují situace, kdy je výhodné ji použít pro symbolické výpočty a manipulaci s matematickými výrazy."
   ]
  }
 ],
 "metadata": {
  "kernelspec": {
   "display_name": "Python 3.11.0 64-bit",
   "language": "python",
   "name": "python3"
  },
  "language_info": {
   "codemirror_mode": {
    "name": "ipython",
    "version": 3
   },
   "file_extension": ".py",
   "mimetype": "text/x-python",
   "name": "python",
   "nbconvert_exporter": "python",
   "pygments_lexer": "ipython3",
   "version": "3.11.0"
  },
  "orig_nbformat": 4,
  "vscode": {
   "interpreter": {
    "hash": "c261aea317cc0286b3b3261fbba9abdec21eaa57589985bb7a274bf54d6cc0a7"
   }
  }
 },
 "nbformat": 4,
 "nbformat_minor": 2
}
