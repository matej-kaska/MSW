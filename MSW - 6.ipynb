{
 "cells": [
  {
   "cell_type": "markdown",
   "metadata": {},
   "source": [
    "## Generování náhodné seedu pomocí zadaných znaků"
   ]
  },
  {
   "cell_type": "code",
   "execution_count": 6,
   "metadata": {},
   "outputs": [],
   "source": [
    "import math\n",
    "import hashlib"
   ]
  },
  {
   "cell_type": "code",
   "execution_count": 7,
   "metadata": {},
   "outputs": [
    {
     "name": "stdout",
     "output_type": "stream",
     "text": [
      "Seed: 27714379587474984358355679882956593168384\n"
     ]
    }
   ],
   "source": [
    "def get_seed(data):\n",
    "    hash = hashlib.sha256(data.encode(\"utf-8\")).hexdigest()\n",
    "\n",
    "    seed = 1\n",
    "    for _hex in zip(hash[::2], hash[1::2]):\n",
    "        shex = \"\".join(_hex)\n",
    "        dec = int(shex, 16)\n",
    "\n",
    "        for char in shex:\n",
    "            dec *= ord(char)\n",
    "\n",
    "        seed *= math.log2(dec)\n",
    "    \n",
    "    return int(seed)\n",
    "\n",
    "data = input(\"Zadejte náhodné znaky pro vygenerování seedu:\\n\")\n",
    "\n",
    "seed = get_seed(data)\n",
    "print(\"Seed: %s\" % seed)"
   ]
  },
  {
   "cell_type": "markdown",
   "metadata": {},
   "source": [
    "## Generování náhodného seedu pomocí hýbání kurzoru"
   ]
  },
  {
   "cell_type": "code",
   "execution_count": 8,
   "metadata": {},
   "outputs": [],
   "source": [
    "import time\n",
    "import math\n",
    "import hashlib\n",
    "import pyautogui"
   ]
  },
  {
   "cell_type": "code",
   "execution_count": 12,
   "metadata": {},
   "outputs": [
    {
     "name": "stdout",
     "output_type": "stream",
     "text": [
      "Hýbejte kurzorem pro vygenorávní seedu\n",
      "Seed: 20379516154637045054432154826645327314944\n"
     ]
    }
   ],
   "source": [
    "def get_pos():\n",
    "    return pyautogui.position()\n",
    "\n",
    "def pos_distance(pos1, pos2):\n",
    "    x1, y1 = pos1\n",
    "    x2, y2 = pos2\n",
    "    return math.sqrt((x1 - x2) ** 2 + (y1 - y2) ** 2)\n",
    "\n",
    "def get_seed(data):\n",
    "    hash = hashlib.sha256(data.encode(\"utf-8\")).hexdigest()\n",
    "    seed = 1\n",
    "    for i in range(0, len(hash), 2):\n",
    "        shex = hash[i:i+2]\n",
    "        dec = int(shex, 16)\n",
    "        for char in shex:\n",
    "            dec *= ord(char)\n",
    "        if dec > 0:\n",
    "            seed *= math.log2(dec)\n",
    "    return int(seed)\n",
    "\n",
    "positions = []\n",
    "prev_pos = (0, 0)\n",
    "target_count = 500\n",
    "\n",
    "print(\"Hýbejte kurzorem pro vygenorávní seedu\")\n",
    "\n",
    "while len(positions) < target_count:\n",
    "    time.sleep(0.01)\n",
    "    curr_pos = get_pos()\n",
    "    if pos_distance(prev_pos, curr_pos) > 20:\n",
    "        positions.append(curr_pos)\n",
    "    progress = len(positions) / target_count * 100\n",
    "    print(f\"Průběh: {progress:.1f}%\", end=\"\\r\")\n",
    "    prev_pos = curr_pos\n",
    "\n",
    "seed = get_seed(str(positions))\n",
    "print(\"Seed:\", seed)\n"
   ]
  }
 ],
 "metadata": {
  "kernelspec": {
   "display_name": "Python 3.11.0 64-bit",
   "language": "python",
   "name": "python3"
  },
  "language_info": {
   "codemirror_mode": {
    "name": "ipython",
    "version": 3
   },
   "file_extension": ".py",
   "mimetype": "text/x-python",
   "name": "python",
   "nbconvert_exporter": "python",
   "pygments_lexer": "ipython3",
   "version": "3.11.0"
  },
  "orig_nbformat": 4,
  "vscode": {
   "interpreter": {
    "hash": "c261aea317cc0286b3b3261fbba9abdec21eaa57589985bb7a274bf54d6cc0a7"
   }
  }
 },
 "nbformat": 4,
 "nbformat_minor": 2
}
